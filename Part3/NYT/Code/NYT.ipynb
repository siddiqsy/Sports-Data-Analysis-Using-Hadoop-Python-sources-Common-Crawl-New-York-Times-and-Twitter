{
 "cells": [
  {
   "cell_type": "code",
   "execution_count": 29,
   "metadata": {},
   "outputs": [
    {
     "name": "stderr",
     "output_type": "stream",
     "text": [
      "[nltk_data] Downloading package wordnet to\n",
      "[nltk_data]     C:\\Users\\HP\\AppData\\Roaming\\nltk_data...\n",
      "[nltk_data]   Package wordnet is already up-to-date!\n"
     ]
    },
    {
     "name": "stdout",
     "output_type": "stream",
     "text": [
      "[\"advertisementsupported byby reutersrio de janeiro — the chance of fifa increasing the number of team at the world cup in qatar from to is / , the president of soccer 's governing body gianni infantino said on wednesday.infantino , who is in brazil for a meeting of the south american football confederation , told delegate he wa working to ensure the increase for the qatar tournament , which would mean a guaranteed two extra place for south american side . `` we are working to see if we can get team in the world cup because more participation mean more development and more passion for everyone , `` he said . `` we ’ ll see by june whether it is possible or not . ( it ’ s ) / . what is percent is that the world cup is going to be spectacular and a total success . `` a final decision on the number of team for the next final will be taken at the fifa congress in paris on june .fifa chose to host the world cup for team in qatar , although infantino ha sounded out neighbor over their willingness to host some match in an expanded tournament.fifa ha already agreed to increase the number of team to for the tournament being co-hosted by the united state , canada and mexico but is keen to expand quicker than planned . ( reporting by daniela desantis , writing by andrew downie ; editing by ken ferris ) advertisement\", \"advertisementsupported byby reutersrio de janeiro — the chance of fifa increasing the number of team at the world cup in qatar from to is / , the president of soccer 's governing body gianni infantino said on wednesday.infantino , who is in brazil for a meeting of the south american football confederation , told delegate he wa working to ensure the increase for the qatar tournament , which would mean a guaranteed two extra place for south american side . `` we are working to see if we can get team in the world cup because more participation mean more development and more passion for everyone , `` he said . `` we ’ ll see by june whether it is possible or not . ( it ’ s ) / . what is percent is that the world cup is going to be spectacular and a total success . `` a final decision on the number of team for the next final will be taken at the fifa congress in paris on june .fifa chose to host the world cup for team in qatar , although infantino ha sounded out neighbor over their willingness to host some match in an expanded tournament.fifa ha already agreed to increase the number of team to for the tournament being co-hosted by the united state , canada and mexico but is keen to expand quicker than planned . ( reporting by daniela desantis , writing by andrew downie ; editing by ken ferris ) advertisement\", \"advertisementsupported byby reutersrio de janeiro — the chance of fifa increasing the number of team at the world cup in qatar from to is / , the president of soccer 's governing body gianni infantino said on wednesday.infantino , who is in brazil for a meeting of the south american football confederation , told delegate he wa working to ensure the increase for the qatar tournament , which would mean a guaranteed two extra place for south american side . `` we are working to see if we can get team in the world cup because more participation mean more development and more passion for everyone , `` he said . `` we ’ ll see by june whether it is possible or not . ( it ’ s ) / . what is percent is that the world cup is going to be spectacular and a total success . `` a final decision on the number of team for the next final will be taken at the fifa congress in paris on june .fifa chose to host the world cup for team in qatar , although infantino ha sounded out neighbor over their willingness to host some match in an expanded tournament.fifa ha already agreed to increase the number of team to for the tournament being co-hosted by the united state , canada and mexico but is keen to expand quicker than planned . ( reporting by daniela desantis , writing by andrew downie ; editing by ken ferris ) advertisement\", \"advertisementsupported byby reutersrio de janeiro — the chance of fifa increasing the number of team at the world cup in qatar from to is / , the president of soccer 's governing body gianni infantino said on wednesday.infantino , who is in brazil for a meeting of the south american football confederation , told delegate he wa working to ensure the increase for the qatar tournament , which would mean a guaranteed two extra place for south american side . `` we are working to see if we can get team in the world cup because more participation mean more development and more passion for everyone , `` he said . `` we ’ ll see by june whether it is possible or not . ( it ’ s ) / . what is percent is that the world cup is going to be spectacular and a total success . `` a final decision on the number of team for the next final will be taken at the fifa congress in paris on june .fifa chose to host the world cup for team in qatar , although infantino ha sounded out neighbor over their willingness to host some match in an expanded tournament.fifa ha already agreed to increase the number of team to for the tournament being co-hosted by the united state , canada and mexico but is keen to expand quicker than planned . ( reporting by daniela desantis , writing by andrew downie ; editing by ken ferris ) advertisement\", \"advertisementsupported byby reutersrio de janeiro — the chance of fifa increasing the number of team at the world cup in qatar from to is / , the president of soccer 's governing body gianni infantino said on wednesday.infantino , who is in brazil for a meeting of the south american football confederation , told delegate he wa working to ensure the increase for the qatar tournament , which would mean a guaranteed two extra place for south american side . `` we are working to see if we can get team in the world cup because more participation mean more development and more passion for everyone , `` he said . `` we ’ ll see by june whether it is possible or not . ( it ’ s ) / . what is percent is that the world cup is going to be spectacular and a total success . `` a final decision on the number of team for the next final will be taken at the fifa congress in paris on june .fifa chose to host the world cup for team in qatar , although infantino ha sounded out neighbor over their willingness to host some match in an expanded tournament.fifa ha already agreed to increase the number of team to for the tournament being co-hosted by the united state , canada and mexico but is keen to expand quicker than planned . ( reporting by daniela desantis , writing by andrew downie ; editing by ken ferris ) advertisement\", \"advertisementsupported byby reutersrio de janeiro — the chance of fifa increasing the number of team at the world cup in qatar from to is / , the president of soccer 's governing body gianni infantino said on wednesday.infantino , who is in brazil for a meeting of the south american football confederation , told delegate he wa working to ensure the increase for the qatar tournament , which would mean a guaranteed two extra place for south american side . `` we are working to see if we can get team in the world cup because more participation mean more development and more passion for everyone , `` he said . `` we ’ ll see by june whether it is possible or not . ( it ’ s ) / . what is percent is that the world cup is going to be spectacular and a total success . `` a final decision on the number of team for the next final will be taken at the fifa congress in paris on june .fifa chose to host the world cup for team in qatar , although infantino ha sounded out neighbor over their willingness to host some match in an expanded tournament.fifa ha already agreed to increase the number of team to for the tournament being co-hosted by the united state , canada and mexico but is keen to expand quicker than planned . ( reporting by daniela desantis , writing by andrew downie ; editing by ken ferris ) advertisement\", \"advertisementsupported byby reutersrio de janeiro — the chance of fifa increasing the number of team at the world cup in qatar from to is / , the president of soccer 's governing body gianni infantino said on wednesday.infantino , who is in brazil for a meeting of the south american football confederation , told delegate he wa working to ensure the increase for the qatar tournament , which would mean a guaranteed two extra place for south american side . `` we are working to see if we can get team in the world cup because more participation mean more development and more passion for everyone , `` he said . `` we ’ ll see by june whether it is possible or not . ( it ’ s ) / . what is percent is that the world cup is going to be spectacular and a total success . `` a final decision on the number of team for the next final will be taken at the fifa congress in paris on june .fifa chose to host the world cup for team in qatar , although infantino ha sounded out neighbor over their willingness to host some match in an expanded tournament.fifa ha already agreed to increase the number of team to for the tournament being co-hosted by the united state , canada and mexico but is keen to expand quicker than planned . ( reporting by daniela desantis , writing by andrew downie ; editing by ken ferris ) advertisement\", \"advertisementsupported byby reutersrio de janeiro — the chance of fifa increasing the number of team at the world cup in qatar from to is / , the president of soccer 's governing body gianni infantino said on wednesday.infantino , who is in brazil for a meeting of the south american football confederation , told delegate he wa working to ensure the increase for the qatar tournament , which would mean a guaranteed two extra place for south american side . `` we are working to see if we can get team in the world cup because more participation mean more development and more passion for everyone , `` he said . `` we ’ ll see by june whether it is possible or not . ( it ’ s ) / . what is percent is that the world cup is going to be spectacular and a total success . `` a final decision on the number of team for the next final will be taken at the fifa congress in paris on june .fifa chose to host the world cup for team in qatar , although infantino ha sounded out neighbor over their willingness to host some match in an expanded tournament.fifa ha already agreed to increase the number of team to for the tournament being co-hosted by the united state , canada and mexico but is keen to expand quicker than planned . ( reporting by daniela desantis , writing by andrew downie ; editing by ken ferris ) advertisement\", \"advertisementsupported byby reutersrio de janeiro — the chance of fifa increasing the number of team at the world cup in qatar from to is / , the president of soccer 's governing body gianni infantino said on wednesday.infantino , who is in brazil for a meeting of the south american football confederation , told delegate he wa working to ensure the increase for the qatar tournament , which would mean a guaranteed two extra place for south american side . `` we are working to see if we can get team in the world cup because more participation mean more development and more passion for everyone , `` he said . `` we ’ ll see by june whether it is possible or not . ( it ’ s ) / . what is percent is that the world cup is going to be spectacular and a total success . `` a final decision on the number of team for the next final will be taken at the fifa congress in paris on june .fifa chose to host the world cup for team in qatar , although infantino ha sounded out neighbor over their willingness to host some match in an expanded tournament.fifa ha already agreed to increase the number of team to for the tournament being co-hosted by the united state , canada and mexico but is keen to expand quicker than planned . ( reporting by daniela desantis , writing by andrew downie ; editing by ken ferris ) advertisement\", \"advertisementsupported byby reutersrio de janeiro — the chance of fifa increasing the number of team at the world cup in qatar from to is / , the president of soccer 's governing body gianni infantino said on wednesday.infantino , who is in brazil for a meeting of the south american football confederation , told delegate he wa working to ensure the increase for the qatar tournament , which would mean a guaranteed two extra place for south american side . `` we are working to see if we can get team in the world cup because more participation mean more development and more passion for everyone , `` he said . `` we ’ ll see by june whether it is possible or not . ( it ’ s ) / . what is percent is that the world cup is going to be spectacular and a total success . `` a final decision on the number of team for the next final will be taken at the fifa congress in paris on june .fifa chose to host the world cup for team in qatar , although infantino ha sounded out neighbor over their willingness to host some match in an expanded tournament.fifa ha already agreed to increase the number of team to for the tournament being co-hosted by the united state , canada and mexico but is keen to expand quicker than planned . ( reporting by daniela desantis , writing by andrew downie ; editing by ken ferris ) advertisement\"]"
     ]
    },
    {
     "name": "stdout",
     "output_type": "stream",
     "text": [
      "\n",
      "['https://www.nytimes.com/2019/04/05/sports/afc-sheikh-salman.html', 'https://www.nytimes.com/2019/03/12/learning/learning-with-us-womens-soccer-team-sues-us-soccer-for-gender-discrimination.html', 'https://www.nytimes.com/2019/02/28/sports/conmebol-us-soccer-copa-america.html', 'https://www.nytimes.com/2019/02/17/sports/wisla-krakow-hooligans-kuba.html', 'https://www.nytimes.com/2019/03/05/sports/hacker-football-leaks-soccer.html', 'https://www.nytimes.com/reuters/2019/04/15/sports/soccer/15reuters-soccer-africa-caf.html', 'https://www.nytimes.com/2019/03/18/world/asia/afghan-womens-soccer-sex-abuse.html', 'https://www.nytimes.com/reuters/2019/04/15/sports/soccer/15reuters-soccer-austria-rbs.html', 'https://www.nytimes.com/aponline/2019/04/18/sports/soccer/ap-soc-european-soccer-weekend.html', 'https://www.nytimes.com/2019/02/08/sports/womens-soccer-doncaster-belles.html']\n"
     ]
    }
   ],
   "source": [
    "# Importing packages\n",
    "\n",
    "import pandas as pd\n",
    "import json\n",
    "import numpy as np\n",
    "import requests\n",
    "\n",
    "# nltk for text processing \n",
    "import nltk\n",
    "import re\n",
    "from nltk.stem import WordNetLemmatizer\n",
    "from nltk.tokenize import word_tokenize\n",
    "from bs4 import BeautifulSoup\n",
    "import urllib.request\n",
    "from nltk.tokenize import word_tokenize\n",
    "\n",
    "# Wordnet Lemmatizer\n",
    "from nltk.stem import WordNetLemmatizer\n",
    "from bs4 import BeautifulSoup\n",
    "nltk.download('wordnet')\n",
    "np.random.seed(7)\n",
    "import re\n",
    "import time\n",
    "from nltk.corpus import stopwords\n",
    "\n",
    "# Spacy for text processing \n",
    "import spacy \n",
    "\n",
    "# Punctuation removal\n",
    "import string\n",
    "punctuations = string.punctuation\n",
    "\n",
    "# Selecting the sub-topcis on which to fetch the data\n",
    "small_top = []\n",
    "small_top.append(\"soccer\")\n",
    "#small_top.append(\"baseball\")\n",
    "#small_top.append(\"basketball\")\n",
    "#small_top.append(\"football\")\n",
    "#small_top.append(\"golf\")\n",
    "\n",
    "# Iterating for each subtopic\n",
    "for wrdss in small_top:\n",
    "    urlss = []       \n",
    "    for cnt in range(1,2): \n",
    "        time.sleep(11)\n",
    "        state_link = \"https://api.nytimes.com/svc/search/v2/articlesearch.json?q=\"+str(wrdss)+\"&begin_date=20190101&page=\"+str(cnt)+\"&api-key=6dqBKUiy4CGD7qvuIp6KoGfj4KUDzGvR\"\n",
    "        intermediate = requests.get(state_link)\n",
    "        json_op = json.loads(intermediate.text)\n",
    "        for data_points in json_op[\"response\"][\"docs\"]:\n",
    "            urlss.append(data_points[\"web_url\"])\n",
    "            \n",
    "            \n",
    "    content = [] \n",
    "    # Content has the data from the NYT articles\n",
    "    for url in urlss:\n",
    "            tmp = urllib.request.urlopen(url).read()\n",
    "            B_output = BeautifulSoup(tmp, \"lxml\")\n",
    "            parameters = B_output.findAll('p')\n",
    "            content_string = \"\"\n",
    "            for sentences in parameters:\n",
    "                content_string = content_string + sentences.getText()\n",
    "                \n",
    "            # Preprocess text to remove junk words/pronouns/punctuations/perform stemming    \n",
    "            lemmatizer = WordNetLemmatizer()      \n",
    "            content_string = re.sub(r\"http\\S+\", \"\", content_string) \n",
    "            content_string = text.replace('\\d+', '')\n",
    "            content_string = re.sub(r'\\d+', '', content_string)\n",
    "            content_string = content_string = text.strip().lower()              \n",
    "            words = word_tokenize(content_string)\n",
    "            words = [tok.lower().strip() if tok != \"-PRON-\" else tok.lower_ for tok in words]\n",
    "            content_string = ' '.join([lemmatizer.lemmatize(word) for word in words]) \n",
    "            content.append(content_string)\n",
    "\n",
    "# NYT Articles data\n",
    "print(content)\n",
    "\n",
    "# NYT Articles urls\n",
    "print(urlss)"
   ]
  }
 ],
 "metadata": {
  "kernelspec": {
   "display_name": "Python 3",
   "language": "python",
   "name": "python3"
  },
  "language_info": {
   "codemirror_mode": {
    "name": "ipython",
    "version": 3
   },
   "file_extension": ".py",
   "mimetype": "text/x-python",
   "name": "python",
   "nbconvert_exporter": "python",
   "pygments_lexer": "ipython3",
   "version": "3.7.1"
  }
 },
 "nbformat": 4,
 "nbformat_minor": 2
}
