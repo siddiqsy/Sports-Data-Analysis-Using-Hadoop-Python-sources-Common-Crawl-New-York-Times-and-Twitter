{
 "cells": [
  {
   "cell_type": "code",
   "execution_count": 2,
   "metadata": {},
   "outputs": [
    {
     "name": "stdout",
     "output_type": "stream",
     "text": [
      "Requirement already satisfied: langdetect in c:\\users\\hp\\anaconda3\\lib\\site-packages (1.0.7)\n",
      "Requirement already satisfied: six in c:\\users\\hp\\anaconda3\\lib\\site-packages (from langdetect) (1.12.0)\n"
     ]
    }
   ],
   "source": [
    "# Installing packages\n",
    "\n",
    "import warc\n",
    "import requests\n",
    "import pandas as pd\n",
    "from contextlib import closing\n",
    "import re\n",
    "import nltk\n",
    "from nltk.tokenize import word_tokenize\n",
    "from nltk.stem import WordNetLemmatizer\n",
    "lemmatizer = WordNetLemmatizer() \n",
    "!pip install langdetect\n",
    "#!pip install langdetect\n",
    "import langdetect"
   ]
  },
  {
   "cell_type": "code",
   "execution_count": 4,
   "metadata": {},
   "outputs": [
    {
     "name": "stdout",
     "output_type": "stream",
     "text": [
      "softwareinfo iawebcommonssnapshot extracteddate wed mar gmt robot checked via crawlercommons snapshot ispartof ccmain operator common crawl admin infocommoncrawlorg description wide crawl of the web for march publisher common crawl\n"
     ]
    }
   ],
   "source": [
    "from langdetect import detect_langs\n",
    "m = warc.open(\"cc.warc.wet\")\n",
    "text = \"\"\n",
    "\n",
    "# Reading data block by block from the wet files\n",
    "content = [] \n",
    "\n",
    "for record in m:\n",
    "    try:\n",
    "        block = record.payload.read().decode('utf-8')\n",
    "        langes = detect_langs(block)\n",
    "        for i in langes:\n",
    "            if i.lang == \"en\":\n",
    "                \n",
    "                # Filtering according to our Topic\n",
    "                if \"Sports\" or \"Baseball\" or \"Football\" in block:\n",
    "                    text = text + block\n",
    "                    text = text.lower() \n",
    "                    \n",
    "                    # Data Cleaning/stemming\n",
    "                    text = re.sub(r\"http\\S+\", \"\", text)\n",
    "                    text = re.sub(r'[^\\w\\s]','',text)\n",
    "                    text = re.sub(r'\\d+', '', text)\n",
    "                    text = word_tokenize(text)\n",
    "                    text = ' '.join([lemmatizer.lemmatize(word) for word in text]) \n",
    "                    \n",
    "                    #df = pd.DataFrame(text_list)\n",
    "                    #df.to_csv('C:/Users/HP/'+\"cmmncrawl\"+'.txt', index=False)\n",
    "                    print(text)      \n",
    "        break\n",
    "                \n",
    "    except Exception:\n",
    "        continue"
   ]
  }
 ],
 "metadata": {
  "kernelspec": {
   "display_name": "Python 3",
   "language": "python",
   "name": "python3"
  },
  "language_info": {
   "codemirror_mode": {
    "name": "ipython",
    "version": 3
   },
   "file_extension": ".py",
   "mimetype": "text/x-python",
   "name": "python",
   "nbconvert_exporter": "python",
   "pygments_lexer": "ipython3",
   "version": "3.7.1"
  }
 },
 "nbformat": 4,
 "nbformat_minor": 2
}
